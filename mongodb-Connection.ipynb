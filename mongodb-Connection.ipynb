{
 "cells": [
  {
   "cell_type": "code",
   "execution_count": 1,
   "id": "a4277977-0ed4-449a-9631-e11b353cd6d6",
   "metadata": {},
   "outputs": [],
   "source": [
    " # package which enables us to connect to the MongoDB\n",
    "import pymongo\n",
    "dbConn = pymongo.MongoClient(\"mongodb://localhost:27017/\")  # connecting to the locally running MongoDB Instance\n"
   ]
  },
  {
   "cell_type": "code",
   "execution_count": 2,
   "id": "11bde986-1baa-4662-b249-9d5323b9ce39",
   "metadata": {},
   "outputs": [],
   "source": [
    "dbname='demoDB'\n",
    "db = dbConn[dbname]"
   ]
  },
  {
   "cell_type": "code",
   "execution_count": 3,
   "id": "56e8798e-c2fb-4bfe-afa8-02a215a3e06a",
   "metadata": {},
   "outputs": [
    {
     "name": "stdout",
     "output_type": "stream",
     "text": [
      "['admin', 'aranav', 'car', 'config', 'local', 'messages', 'movie', 'your_database_name']\n"
     ]
    }
   ],
   "source": [
    "# show all the databases\n",
    "print(dbConn.list_database_names())"
   ]
  },
  {
   "cell_type": "code",
   "execution_count": 8,
   "id": "fbade0c4-19c4-450f-8dbb-1a8d336c54e9",
   "metadata": {},
   "outputs": [
    {
     "name": "stdout",
     "output_type": "stream",
     "text": [
      "This Databse exists\n"
     ]
    }
   ],
   "source": [
    "dblist=dbConn.list_database_names() # obtaining all the database names\n",
    "db_name='local'\n",
    "\n",
    "if dblist.index(db_name)==-1:\n",
    "    print (\"This Databse doesn't exist\")\n",
    "else:\n",
    "    print (\"This Databse exists\")"
   ]
  },
  {
   "cell_type": "code",
   "execution_count": null,
   "id": "8f93d621-a439-459c-8d6d-f205a5a1d5f6",
   "metadata": {},
   "outputs": [],
   "source": []
  }
 ],
 "metadata": {
  "kernelspec": {
   "display_name": "Python 3 (ipykernel)",
   "language": "python",
   "name": "python3"
  },
  "language_info": {
   "codemirror_mode": {
    "name": "ipython",
    "version": 3
   },
   "file_extension": ".py",
   "mimetype": "text/x-python",
   "name": "python",
   "nbconvert_exporter": "python",
   "pygments_lexer": "ipython3",
   "version": "3.8.2"
  }
 },
 "nbformat": 4,
 "nbformat_minor": 5
}
